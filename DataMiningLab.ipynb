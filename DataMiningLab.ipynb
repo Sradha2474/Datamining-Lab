{
 "cells": [
  {
   "cell_type": "markdown",
   "id": "c29d30db-5c11-42bb-89b3-8d220928e67f",
   "metadata": {},
   "source": [
    "# Experiment-1\n",
    "Introduction to python list and dictonary"
   ]
  },
  {
   "cell_type": "code",
   "execution_count": 16,
   "id": "9e707314-b9cc-44f1-adc8-e59978467478",
   "metadata": {},
   "outputs": [
    {
     "name": "stdout",
     "output_type": "stream",
     "text": [
      "Squares of positive numbers: [1, 16, 36]\n"
     ]
    }
   ],
   "source": [
    "#1.1Write a Python program that takes a list of integers as input and uses list comprehension to create a new list containing the squares of positive numbers from the input list.\n",
    "# QUESTION 1 \n",
    "def square_positive_numbers(nums):\n",
    "    return [x**2 for x in nums if x > 0]\n",
    "\n",
    "list_1 = [1, -3, 4, -2, 6]\n",
    "print(\"Squares of positive numbers:\", square_positive_numbers(list_1))"
   ]
  },
  {
   "cell_type": "code",
   "execution_count": 18,
   "id": "1a4e565c-4053-4f80-9dca-82d7752d52c7",
   "metadata": {},
   "outputs": [
    {
     "name": "stdout",
     "output_type": "stream",
     "text": [
      "Common elements: [3, 4]\n"
     ]
    }
   ],
   "source": [
    "#1.2Write a Python function that takes two lists as input and returns a new list containing only the elements that are common in both lists.\n",
    "def common_elements(list1, list2):\n",
    "    result = []\n",
    "    for item in list1:\n",
    "        if item in list2:\n",
    "            result.append(item)\n",
    "    return result\n",
    "list1 = [1, 2, 3, 4]\n",
    "list2 = [3, 4, 5, 6]\n",
    "\n",
    "print(\"Common elements:\", common_elements(list1, list2))"
   ]
  },
  {
   "cell_type": "code",
   "execution_count": 24,
   "id": "8527138a-2fa1-4d22-a2b0-a5ee8a6a56d2",
   "metadata": {},
   "outputs": [
    {
     "name": "stdout",
     "output_type": "stream",
     "text": [
      "[1, 2, 3, 4]\n"
     ]
    }
   ],
   "source": [
    "#1.3Write a Python function that takes a list as input and returns a new list with duplicate elements removed, while preserving the original order of elements.\n",
    "def remove_duplicates(lst):\n",
    "    result = []\n",
    "    for item in lst:\n",
    "        if item not in result:\n",
    "            result.append(item)\n",
    "    return result\n",
    "\n",
    "print(remove_duplicates([1, 2, 2, 3, 1, 4]))\n"
   ]
  },
  {
   "cell_type": "code",
   "execution_count": 30,
   "id": "eee8c5bd-f18d-469c-a5e4-47cf8f6f8999",
   "metadata": {},
   "outputs": [
    {
     "name": "stdout",
     "output_type": "stream",
     "text": [
      "[[1, 6], [8, 12]]\n"
     ]
    }
   ],
   "source": [
    "#1.4Write a Python function that takes a list of intervals as input, where each interval is represented as a pair of integers [start, end], and returns a new list of merged intervals\n",
    "def merge_intervals(intervals):\n",
    "    intervals.sort()  # Sort based on start time\n",
    "    merged = []\n",
    "\n",
    "    for interval in intervals:\n",
    "        if not merged or merged[-1][1] < interval[0]:\n",
    "            merged.append(interval)\n",
    "        else:\n",
    "            merged[-1][1] = max(merged[-1][1], interval[1])\n",
    "    return merged\n",
    "print(merge_intervals([[1,3], [2,6], [8,10], [9,12]]))"
   ]
  },
  {
   "cell_type": "code",
   "execution_count": 32,
   "id": "88f5c3da-ee4c-47ce-96fd-8586ffe15671",
   "metadata": {},
   "outputs": [
    {
     "name": "stdout",
     "output_type": "stream",
     "text": [
      "2\n"
     ]
    }
   ],
   "source": [
    "#1.5Write a Python function that takes a sorted list of integers and a target integer as input and performs binary search to find the target. Return the index of the target if found, or -1 if it is not present in the list.\n",
    "def binary_search(arr, target):\n",
    "    left = 0\n",
    "    right = len(arr) - 1\n",
    "    while left <= right:\n",
    "        mid = (left + right) \n",
    "        if arr[mid] == target:\n",
    "            return mid\n",
    "        elif arr[mid] < target:\n",
    "            left = mid + 1\n",
    "        else:\n",
    "            right = mid - 1\n",
    "    return -1\n",
    "print(binary_search([1, 3, 5, 7, 9], 5))"
   ]
  },
  {
   "cell_type": "code",
   "execution_count": 34,
   "id": "8e222d73-e061-432d-9388-f641e5376561",
   "metadata": {},
   "outputs": [
    {
     "name": "stdout",
     "output_type": "stream",
     "text": [
      "[[1, 3, 5], [2, 4, 6]]\n"
     ]
    }
   ],
   "source": [
    "#1.6Write a Python function that takes a 2D matrix represented as a list of lists and returns the transpose of the matrix.\n",
    "def transpose(matrix):\n",
    "    return [[row[i] for row in matrix] for i in range(len(matrix[0]))]\n",
    "matrix = [[1, 2], [3, 4], [5, 6]]\n",
    "print(transpose(matrix))"
   ]
  },
  {
   "cell_type": "code",
   "execution_count": 42,
   "id": "ed0c44be-1e57-4ed8-a723-fb0b1be1c19f",
   "metadata": {},
   "outputs": [
    {
     "name": "stdin",
     "output_type": "stream",
     "text": [
      "Enter number:  7\n",
      "Enter number:  8\n",
      "Enter number:  11\n",
      "Enter number:  16\n",
      "Enter number:  12\n"
     ]
    },
    {
     "name": "stdout",
     "output_type": "stream",
     "text": [
      "[[1, 7], [1, 2, 4, 8], [1, 11], [1, 2, 4, 8, 16], [1, 2, 3, 4, 6, 12]]\n"
     ]
    }
   ],
   "source": [
    "#1.7 Write a python program to take 5 elements as user input and store in to a list and create a 2D list to store the factorial of the list element.  \n",
    "#Example:  \tInput= [8,11,16,12,20]\n",
    "#Output= [ [1,2,4,8], [1,11], [1,2,4,8,16], [1,2,3,4,6,12], [1,2,4,5,10,20]  ]\n",
    "def find_factors(n):\n",
    "    return [i for i in range(1, n+1) if n % i == 0]\n",
    "nums = []\n",
    "for _ in range(5):\n",
    "    num = int(input(\"Enter number: \"))\n",
    "    nums.append(num)\n",
    "factor_list = [find_factors(x) for x in nums]\n",
    "print(factor_list)"
   ]
  },
  {
   "cell_type": "code",
   "execution_count": 46,
   "id": "879f60d9-4dfd-463b-a7b3-3800a0363b45",
   "metadata": {},
   "outputs": [
    {
     "name": "stdout",
     "output_type": "stream",
     "text": [
      "Arjun 91\n",
      "Ram 85\n",
      "Bharat 78\n"
     ]
    }
   ],
   "source": [
    "#1.8 Write a program that takes a list of tuples as input. Each tuple in the list represents a student\n",
    "#name and their corresponding score in a subject. Print the name with descending order of scores.\n",
    "\n",
    "\n",
    "students = [(\"Ram\", 85), (\"Bharat\", 78), (\"Arjun\", 91)]\n",
    "students.sort(key=lambda x: x[1], reverse=True)\n",
    "for name, score in students:\n",
    "    print(name, score)"
   ]
  },
  {
   "cell_type": "code",
   "execution_count": 48,
   "id": "05e9731e-f5c3-421e-93c0-5acb62fd6d3e",
   "metadata": {},
   "outputs": [
    {
     "name": "stdin",
     "output_type": "stream",
     "text": [
      "Enter a string:  sradha ram\n"
     ]
    },
    {
     "name": "stdout",
     "output_type": "stream",
     "text": [
      "Letter frequency: {'s': 1, 'r': 2, 'a': 3, 'd': 1, 'h': 1, 'm': 1}\n"
     ]
    }
   ],
   "source": [
    "#1.9 Write a python program to take a string as user input. Count of the letters from the string and store it in a dictionary with its frequency.\n",
    "def count_letters(text):\n",
    "    freq = {}\n",
    "    for char in text.lower(): \n",
    "        if char.isalpha():    \n",
    "            if char in freq:\n",
    "                freq[char] += 1\n",
    "            else:\n",
    "                freq[char] = 1\n",
    "    return freq\n",
    "input_str = input(\"Enter a string: \")\n",
    "result = count_letters(input_str)\n",
    "print(\"Letter frequency:\", result)\n"
   ]
  },
  {
   "cell_type": "code",
   "execution_count": 50,
   "id": "0faf5653-570e-4fbd-b193-393bed413a49",
   "metadata": {},
   "outputs": [
    {
     "name": "stdout",
     "output_type": "stream",
     "text": [
      "Result list: [5, 7, 8, 7, 5]\n"
     ]
    }
   ],
   "source": [
    "#1.10 Taking a list as input and find the most repeating element and remove the most repeating element and return the list.\n",
    "def remove_most_repeating(lst):\n",
    "    freq = {}\n",
    "    for num in lst:\n",
    "        if num in freq:\n",
    "            freq[num] += 1\n",
    "        else:\n",
    "            freq[num] = 1\n",
    "    most_repeating = max(freq, key=freq.get)\n",
    "    result = [x for x in lst if x != most_repeating]  \n",
    "    return result\n",
    "input_list = [4, 5, 7, 4, 4, 8, 7, 5]\n",
    "print(\"Result list:\", remove_most_repeating(input_list))\n"
   ]
  },
  {
   "cell_type": "markdown",
   "id": "685c2aa3-666c-4044-b4ba-723ddb87d4a2",
   "metadata": {},
   "source": [
    "#  EXPERIMENT-2\n",
    "Introduction to python libraries (Numpy and Pandas)\r\n",
    "2.1 Numpy\r\n",
    "\r\n"
   ]
  },
  {
   "cell_type": "code",
   "execution_count": 4,
   "id": "077cb6b1-fc30-444f-8af2-45c383303525",
   "metadata": {},
   "outputs": [],
   "source": [
    "#Problem: Given a list of numbers [2, 4, 6, 8, 10, 12, 14, 16], perform the following tasks using NumPy functions:\n",
    "#Create a NumPy array from the given list\n",
    "import numpy as np\n",
    "lst = [2, 4, 6, 8, 10, 12, 14, 16]\n",
    "arr = np.array(lst)"
   ]
  },
  {
   "cell_type": "code",
   "execution_count": 6,
   "id": "8078b044-014a-4acd-b007-07bfdaa7efb6",
   "metadata": {},
   "outputs": [
    {
     "data": {
      "text/plain": [
       "numpy.ndarray"
      ]
     },
     "execution_count": 6,
     "metadata": {},
     "output_type": "execute_result"
    }
   ],
   "source": [
    "type(arr)\n"
   ]
  },
  {
   "cell_type": "code",
   "execution_count": 14,
   "id": "dfd3a3fa-5aca-4e39-9f4a-482406c98c55",
   "metadata": {},
   "outputs": [
    {
     "name": "stdout",
     "output_type": "stream",
     "text": [
      "9.0\n",
      "9.0\n",
      "4.58257569495584\n"
     ]
    }
   ],
   "source": [
    "#Calculate the mean, median, and standard deviation of the array.\n",
    "mean_arr = np.mean(arr)\n",
    "median = np.median(arr)\n",
    "std_dev = np.std(arr)\n",
    "print(mean_arr)\n",
    "print(median)\n",
    "print(std_dev)\n"
   ]
  },
  {
   "cell_type": "code",
   "execution_count": 16,
   "id": "b0be83af-2b03-4395-bbc8-80eb0992ea23",
   "metadata": {},
   "outputs": [
    {
     "data": {
      "text/plain": [
       "array([[ 2,  4,  6,  8],\n",
       "       [10, 12, 14, 16]])"
      ]
     },
     "execution_count": 16,
     "metadata": {},
     "output_type": "execute_result"
    }
   ],
   "source": [
    "#Reshape the array into a 2x4 matrix.\n",
    "arr.reshape(2,4)"
   ]
  },
  {
   "cell_type": "code",
   "execution_count": 20,
   "id": "9cf49729-441f-4f2e-9c19-f7be95062b55",
   "metadata": {},
   "outputs": [
    {
     "name": "stdout",
     "output_type": "stream",
     "text": [
      "[1.41421356 2.         2.44948974 2.82842712 3.16227766 3.46410162\n",
      " 3.74165739 4.        ]\n"
     ]
    }
   ],
   "source": [
    "#Calculate the element-wise square root of the array.\n",
    "arr_sqrt = np.sqrt(arr)\n",
    "print (arr_sqrt)\n"
   ]
  },
  {
   "cell_type": "code",
   "execution_count": 22,
   "id": "abe6f784-89c7-4bc0-a99f-a9db597e5082",
   "metadata": {},
   "outputs": [
    {
     "name": "stdout",
     "output_type": "stream",
     "text": [
      "7\n"
     ]
    }
   ],
   "source": [
    "#Find the index of the maximum element in the array\n",
    "max_element = np.argmax(arr)\n",
    "print (max_element)\n",
    "\n"
   ]
  },
  {
   "cell_type": "code",
   "execution_count": null,
   "id": "8da21b5b-8f1d-4c95-90cc-d4ab3341070c",
   "metadata": {},
   "outputs": [],
   "source": [
    "#Create a new array containing only the elements greater than 8.\n",
    "greater_than_8 = arr[arr > 8]\n",
    "print (greater_than_8)"
   ]
  },
  {
   "cell_type": "markdown",
   "id": "4f247ee9-b101-4a0e-b801-1d281ad1e20b",
   "metadata": {},
   "source": [
    "2.2 Pandas:\n",
    "Consider the following data about employees in a company:\n",
    "Name\tAge\tDepartment\tSalary\n",
    "Alice\t28\tHR\t\t50000\n",
    "Bob\t22\tEngineering\t60000\n",
    "Charlie\t35\tHR\t\t55000\n",
    "David\t30\tEngineering\t62000\n",
    "Eve\t25\tFinance\t\t45000\n"
   ]
  },
  {
   "cell_type": "code",
   "execution_count": 43,
   "id": "373c3bab-074a-4548-b04f-9c561638e79e",
   "metadata": {},
   "outputs": [
    {
     "name": "stdout",
     "output_type": "stream",
     "text": [
      "      Name  Age   Department  Salary\n",
      "0    Alice   28           HR    5000\n",
      "1      Bob   22  Engineering   60000\n",
      "2  Charlie   35           HR   55000\n",
      "3    David   30  Engineering   62000\n",
      "4      Eve   25      Finance   45000\n"
     ]
    }
   ],
   "source": [
    "#Create a Pandas DataFrame to store the given data\n",
    "import pandas as pd \n",
    "dataf = pd.DataFrame([\n",
    "    ['Alice', 28, 'HR', 5000],\n",
    "    ['Bob', 22, 'Engineering', 60000],\n",
    "    ['Charlie', 35, 'HR', 55000],\n",
    "    ['David', 30, 'Engineering', 62000],\n",
    "    ['Eve', 25, 'Finance', 45000]\n",
    "], columns=['Name', 'Age', 'Department', 'Salary'])\n",
    "print(dataf)\n",
    "\n",
    "                 "
   ]
  },
  {
   "cell_type": "code",
   "execution_count": 45,
   "id": "3f110aa4-ef1a-491e-97a6-c6d398b7c1ac",
   "metadata": {},
   "outputs": [
    {
     "name": "stdout",
     "output_type": "stream",
     "text": [
      "Data Frame info\n",
      "<class 'pandas.core.frame.DataFrame'>\n",
      "RangeIndex: 5 entries, 0 to 4\n",
      "Data columns (total 4 columns):\n",
      " #   Column      Non-Null Count  Dtype \n",
      "---  ------      --------------  ----- \n",
      " 0   Name        5 non-null      object\n",
      " 1   Age         5 non-null      int64 \n",
      " 2   Department  5 non-null      object\n",
      " 3   Salary      5 non-null      int64 \n",
      "dtypes: int64(2), object(2)\n",
      "memory usage: 292.0+ bytes\n",
      "None\n"
     ]
    }
   ],
   "source": [
    "#Display the basic information about the DataFrame (e.g., number of rows, columns, data types, and memory usage).\n",
    "print(\"Data Frame info\")\n",
    "print(dataf.info())\n",
    "\n",
    "\n"
   ]
  },
  {
   "cell_type": "code",
   "execution_count": 47,
   "id": "4dbe6ad1-a763-4f9e-8146-cdac435a7df9",
   "metadata": {},
   "outputs": [
    {
     "name": "stdout",
     "output_type": "stream",
     "text": [
      "45400.0\n"
     ]
    }
   ],
   "source": [
    "#Calculate the average salary of employees.\n",
    "avg_salary = dataf['Salary'].mean()\n",
    "print (avg_salary)\n"
   ]
  },
  {
   "cell_type": "code",
   "execution_count": 53,
   "id": "d7fc9817-40b1-40f1-90d4-c61d16bdc4fd",
   "metadata": {},
   "outputs": [
    {
     "name": "stdout",
     "output_type": "stream",
     "text": [
      "1    22\n",
      "3    30\n",
      "Name: Age, dtype: int64\n"
     ]
    }
   ],
   "source": [
    "#Find the maximum age of employees in the Engineering department.\n",
    "max_age_eng = dataf[dataf['Department'] == 'Engineering']['Age']\n",
    "print(max_age_eng)\n",
    "\n"
   ]
  },
  {
   "cell_type": "code",
   "execution_count": 55,
   "id": "5d88b5a9-821e-4988-863b-bdc23529b511",
   "metadata": {},
   "outputs": [
    {
     "name": "stdout",
     "output_type": "stream",
     "text": [
      "Employees with Salary > 50000:\n",
      "1        Bob\n",
      "2    Charlie\n",
      "3      David\n",
      "Name: Name, dtype: object\n"
     ]
    }
   ],
   "source": [
    "#Display the names of employees who have a salary greater than 50000.\n",
    "high_salary_employees = dataf[dataf['Salary'] > 50000]['Name']\n",
    "print(\"Employees with Salary > 50000:\")\n",
    "print (high_salary_employees)\n"
   ]
  },
  {
   "cell_type": "code",
   "execution_count": 57,
   "id": "7b55297f-a3a1-422f-ab4f-d52d54c34603",
   "metadata": {},
   "outputs": [
    {
     "name": "stdout",
     "output_type": "stream",
     "text": [
      "After Adding Frank:\n",
      "      Name  Age   Department  Salary\n",
      "0    Alice   28           HR    5000\n",
      "1      Bob   22  Engineering   60000\n",
      "2  Charlie   35           HR   55000\n",
      "3    David   30  Engineering   62000\n",
      "4      Eve   25      Finance   45000\n",
      "5    Frank   40      Finance   55000\n"
     ]
    }
   ],
   "source": [
    "#Add a new employee \"Frank\" to the DataFrame with Age 40, Department as \"Finance,\" and Salary 55000.\n",
    "new_employee = pd.DataFrame([['Frank', 40, 'Finance', 55000]], columns=dataf.columns)\n",
    "dataf = pd.concat([dataf, new_employee], ignore_index=True)\n",
    "print(\"After Adding Frank:\")\n",
    "print(dataf)"
   ]
  },
  {
   "cell_type": "code",
   "execution_count": 59,
   "id": "fad5e6bb-8013-4a4a-b567-3158099f2f71",
   "metadata": {},
   "outputs": [
    {
     "name": "stdout",
     "output_type": "stream",
     "text": [
      "After Removing Eve:\n",
      "      Name  Age   Department  Salary\n",
      "0    Alice   28           HR    5000\n",
      "1      Bob   22  Engineering   60000\n",
      "2  Charlie   35           HR   55000\n",
      "3    David   30  Engineering   62000\n",
      "5    Frank   40      Finance   55000\n"
     ]
    }
   ],
   "source": [
    "#Remove the employee named \"Eve\" from the DataFrame.\n",
    "dataf = dataf[dataf['Name'] != 'Eve']\n",
    "print(\"After Removing Eve:\")\n",
    "print(dataf)\n"
   ]
  },
  {
   "cell_type": "code",
   "execution_count": null,
   "id": "37a79485-86fc-4272-839d-9b0f83e01850",
   "metadata": {},
   "outputs": [],
   "source": []
  }
 ],
 "metadata": {
  "kernelspec": {
   "display_name": "Python 3 (ipykernel)",
   "language": "python",
   "name": "python3"
  },
  "language_info": {
   "codemirror_mode": {
    "name": "ipython",
    "version": 3
   },
   "file_extension": ".py",
   "mimetype": "text/x-python",
   "name": "python",
   "nbconvert_exporter": "python",
   "pygments_lexer": "ipython3",
   "version": "3.12.4"
  }
 },
 "nbformat": 4,
 "nbformat_minor": 5
}
