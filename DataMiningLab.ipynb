{
 "cells": [
  {
   "cell_type": "markdown",
   "id": "c29d30db-5c11-42bb-89b3-8d220928e67f",
   "metadata": {},
   "source": [
    "# Experiment-1\n",
    "Introduction to python list and dictonary"
   ]
  },
  {
   "cell_type": "code",
   "execution_count": 16,
   "id": "9e707314-b9cc-44f1-adc8-e59978467478",
   "metadata": {},
   "outputs": [
    {
     "name": "stdout",
     "output_type": "stream",
     "text": [
      "Squares of positive numbers: [1, 16, 36]\n"
     ]
    }
   ],
   "source": [
    "#1.1Write a Python program that takes a list of integers as input and uses list comprehension to create a new list containing the squares of positive numbers from the input list.\n",
    "# QUESTION 1 \n",
    "def square_positive_numbers(nums):\n",
    "    return [x**2 for x in nums if x > 0]\n",
    "\n",
    "list_1 = [1, -3, 4, -2, 6]\n",
    "print(\"Squares of positive numbers:\", square_positive_numbers(list_1))"
   ]
  },
  {
   "cell_type": "code",
   "execution_count": 18,
   "id": "1a4e565c-4053-4f80-9dca-82d7752d52c7",
   "metadata": {},
   "outputs": [
    {
     "name": "stdout",
     "output_type": "stream",
     "text": [
      "Common elements: [3, 4]\n"
     ]
    }
   ],
   "source": [
    "#1.2Write a Python function that takes two lists as input and returns a new list containing only the elements that are common in both lists.\n",
    "def common_elements(list1, list2):\n",
    "    result = []\n",
    "    for item in list1:\n",
    "        if item in list2:\n",
    "            result.append(item)\n",
    "    return result\n",
    "list1 = [1, 2, 3, 4]\n",
    "list2 = [3, 4, 5, 6]\n",
    "\n",
    "print(\"Common elements:\", common_elements(list1, list2))"
   ]
  },
  {
   "cell_type": "code",
   "execution_count": 24,
   "id": "8527138a-2fa1-4d22-a2b0-a5ee8a6a56d2",
   "metadata": {},
   "outputs": [
    {
     "name": "stdout",
     "output_type": "stream",
     "text": [
      "[1, 2, 3, 4]\n"
     ]
    }
   ],
   "source": [
    "#1.3Write a Python function that takes a list as input and returns a new list with duplicate elements removed, while preserving the original order of elements.\n",
    "def remove_duplicates(lst):\n",
    "    result = []\n",
    "    for item in lst:\n",
    "        if item not in result:\n",
    "            result.append(item)\n",
    "    return result\n",
    "\n",
    "print(remove_duplicates([1, 2, 2, 3, 1, 4]))\n"
   ]
  },
  {
   "cell_type": "code",
   "execution_count": 30,
   "id": "eee8c5bd-f18d-469c-a5e4-47cf8f6f8999",
   "metadata": {},
   "outputs": [
    {
     "name": "stdout",
     "output_type": "stream",
     "text": [
      "[[1, 6], [8, 12]]\n"
     ]
    }
   ],
   "source": [
    "#1.4Write a Python function that takes a list of intervals as input, where each interval is represented as a pair of integers [start, end], and returns a new list of merged intervals\n",
    "def merge_intervals(intervals):\n",
    "    intervals.sort()  # Sort based on start time\n",
    "    merged = []\n",
    "\n",
    "    for interval in intervals:\n",
    "        if not merged or merged[-1][1] < interval[0]:\n",
    "            merged.append(interval)\n",
    "        else:\n",
    "            merged[-1][1] = max(merged[-1][1], interval[1])\n",
    "    return merged\n",
    "print(merge_intervals([[1,3], [2,6], [8,10], [9,12]]))"
   ]
  },
  {
   "cell_type": "code",
   "execution_count": 32,
   "id": "88f5c3da-ee4c-47ce-96fd-8586ffe15671",
   "metadata": {},
   "outputs": [
    {
     "name": "stdout",
     "output_type": "stream",
     "text": [
      "2\n"
     ]
    }
   ],
   "source": [
    "#1.5Write a Python function that takes a sorted list of integers and a target integer as input and performs binary search to find the target. Return the index of the target if found, or -1 if it is not present in the list.\n",
    "def binary_search(arr, target):\n",
    "    left = 0\n",
    "    right = len(arr) - 1\n",
    "    while left <= right:\n",
    "        mid = (left + right) \n",
    "        if arr[mid] == target:\n",
    "            return mid\n",
    "        elif arr[mid] < target:\n",
    "            left = mid + 1\n",
    "        else:\n",
    "            right = mid - 1\n",
    "    return -1\n",
    "print(binary_search([1, 3, 5, 7, 9], 5))"
   ]
  },
  {
   "cell_type": "code",
   "execution_count": 34,
   "id": "8e222d73-e061-432d-9388-f641e5376561",
   "metadata": {},
   "outputs": [
    {
     "name": "stdout",
     "output_type": "stream",
     "text": [
      "[[1, 3, 5], [2, 4, 6]]\n"
     ]
    }
   ],
   "source": [
    "#1.6Write a Python function that takes a 2D matrix represented as a list of lists and returns the transpose of the matrix.\n",
    "def transpose(matrix):\n",
    "    return [[row[i] for row in matrix] for i in range(len(matrix[0]))]\n",
    "matrix = [[1, 2], [3, 4], [5, 6]]\n",
    "print(transpose(matrix))"
   ]
  },
  {
   "cell_type": "code",
   "execution_count": 42,
   "id": "ed0c44be-1e57-4ed8-a723-fb0b1be1c19f",
   "metadata": {},
   "outputs": [
    {
     "name": "stdin",
     "output_type": "stream",
     "text": [
      "Enter number:  7\n",
      "Enter number:  8\n",
      "Enter number:  11\n",
      "Enter number:  16\n",
      "Enter number:  12\n"
     ]
    },
    {
     "name": "stdout",
     "output_type": "stream",
     "text": [
      "[[1, 7], [1, 2, 4, 8], [1, 11], [1, 2, 4, 8, 16], [1, 2, 3, 4, 6, 12]]\n"
     ]
    }
   ],
   "source": [
    "#1.7 Write a python program to take 5 elements as user input and store in to a list and create a 2D list to store the factorial of the list element.  \n",
    "#Example:  \tInput= [8,11,16,12,20]\n",
    "#Output= [ [1,2,4,8], [1,11], [1,2,4,8,16], [1,2,3,4,6,12], [1,2,4,5,10,20]  ]\n",
    "def find_factors(n):\n",
    "    return [i for i in range(1, n+1) if n % i == 0]\n",
    "nums = []\n",
    "for _ in range(5):\n",
    "    num = int(input(\"Enter number: \"))\n",
    "    nums.append(num)\n",
    "factor_list = [find_factors(x) for x in nums]\n",
    "print(factor_list)"
   ]
  },
  {
   "cell_type": "code",
   "execution_count": 46,
   "id": "879f60d9-4dfd-463b-a7b3-3800a0363b45",
   "metadata": {},
   "outputs": [
    {
     "name": "stdout",
     "output_type": "stream",
     "text": [
      "Arjun 91\n",
      "Ram 85\n",
      "Bharat 78\n"
     ]
    }
   ],
   "source": [
    "#1.8 Write a program that takes a list of tuples as input. Each tuple in the list represents a student\n",
    "#name and their corresponding score in a subject. Print the name with descending order of scores.\n",
    "\n",
    "\n",
    "students = [(\"Ram\", 85), (\"Bharat\", 78), (\"Arjun\", 91)]\n",
    "students.sort(key=lambda x: x[1], reverse=True)\n",
    "for name, score in students:\n",
    "    print(name, score)"
   ]
  },
  {
   "cell_type": "code",
   "execution_count": 48,
   "id": "05e9731e-f5c3-421e-93c0-5acb62fd6d3e",
   "metadata": {},
   "outputs": [
    {
     "name": "stdin",
     "output_type": "stream",
     "text": [
      "Enter a string:  sradha ram\n"
     ]
    },
    {
     "name": "stdout",
     "output_type": "stream",
     "text": [
      "Letter frequency: {'s': 1, 'r': 2, 'a': 3, 'd': 1, 'h': 1, 'm': 1}\n"
     ]
    }
   ],
   "source": [
    "#1.9 Write a python program to take a string as user input. Count of the letters from the string and store it in a dictionary with its frequency.\n",
    "def count_letters(text):\n",
    "    freq = {}\n",
    "    for char in text.lower(): \n",
    "        if char.isalpha():    \n",
    "            if char in freq:\n",
    "                freq[char] += 1\n",
    "            else:\n",
    "                freq[char] = 1\n",
    "    return freq\n",
    "input_str = input(\"Enter a string: \")\n",
    "result = count_letters(input_str)\n",
    "print(\"Letter frequency:\", result)\n"
   ]
  },
  {
   "cell_type": "code",
   "execution_count": 50,
   "id": "0faf5653-570e-4fbd-b193-393bed413a49",
   "metadata": {},
   "outputs": [
    {
     "name": "stdout",
     "output_type": "stream",
     "text": [
      "Result list: [5, 7, 8, 7, 5]\n"
     ]
    }
   ],
   "source": [
    "#1.10 Taking a list as input and find the most repeating element and remove the most repeating element and return the list.\n",
    "def remove_most_repeating(lst):\n",
    "    freq = {}\n",
    "    for num in lst:\n",
    "        if num in freq:\n",
    "            freq[num] += 1\n",
    "        else:\n",
    "            freq[num] = 1\n",
    "    most_repeating = max(freq, key=freq.get)\n",
    "    result = [x for x in lst if x != most_repeating]  \n",
    "    return result\n",
    "input_list = [4, 5, 7, 4, 4, 8, 7, 5]\n",
    "print(\"Result list:\", remove_most_repeating(input_list))\n"
   ]
  },
  {
   "cell_type": "code",
   "execution_count": null,
   "id": "14339856-f631-49ce-9e4c-946f97005b26",
   "metadata": {},
   "outputs": [],
   "source": []
  }
 ],
 "metadata": {
  "kernelspec": {
   "display_name": "Python 3 (ipykernel)",
   "language": "python",
   "name": "python3"
  },
  "language_info": {
   "codemirror_mode": {
    "name": "ipython",
    "version": 3
   },
   "file_extension": ".py",
   "mimetype": "text/x-python",
   "name": "python",
   "nbconvert_exporter": "python",
   "pygments_lexer": "ipython3",
   "version": "3.12.4"
  }
 },
 "nbformat": 4,
 "nbformat_minor": 5
}
